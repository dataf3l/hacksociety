{
 "cells": [
  {
   "cell_type": "code",
   "execution_count": 1,
   "metadata": {
    "collapsed": true
   },
   "outputs": [],
   "source": [
    "#Sistema de recomendación con productos Financieros:\n",
    "# Creado por Felipe Valdez, Omar Vergara, Juan Sebastian, Juan Sebastian Salinas y Gonzalo Moreno\n",
    "# Fecha 5 de agosto de 2017\n",
    "\n",
    "\n",
    "# Importación de librerías\n",
    "\n",
    "import tensorflow as tf\n",
    "import numpy as np\n",
    "import pandas as pd\n",
    "import zipfile\n",
    "\n",
    "from sklearn.model_selection import train_test_split\n",
    "\n",
    "# Extracción de datos\n",
    "\n",
    "#with zipfile.ZipFile(\"./datasets/train_ver2.csv.zip\") as z:\n",
    "#   with z.open(\"train_ver2.csv\") as f:\n",
    "#      dataset = pd.read_csv(f, nrows=10000)\n",
    "#      print(dataset.head())    # print the first 5 rows\n",
    "\n",
    "dataset=pd.read_csv('./datasets/train3.csv', low_memory=False)"
   ]
  },
  {
   "cell_type": "code",
   "execution_count": 2,
   "metadata": {},
   "outputs": [
    {
     "data": {
      "text/html": [
       "<div>\n",
       "<style>\n",
       "    .dataframe thead tr:only-child th {\n",
       "        text-align: right;\n",
       "    }\n",
       "\n",
       "    .dataframe thead th {\n",
       "        text-align: left;\n",
       "    }\n",
       "\n",
       "    .dataframe tbody tr th {\n",
       "        vertical-align: top;\n",
       "    }\n",
       "</style>\n",
       "<table border=\"1\" class=\"dataframe\">\n",
       "  <thead>\n",
       "    <tr style=\"text-align: right;\">\n",
       "      <th></th>\n",
       "      <th>fecha_dato</th>\n",
       "      <th>ncodpers</th>\n",
       "      <th>ind_empleado</th>\n",
       "      <th>pais_residencia</th>\n",
       "      <th>sexo</th>\n",
       "      <th>age</th>\n",
       "      <th>fecha_alta</th>\n",
       "      <th>es_nuevo_cliente</th>\n",
       "      <th>antiguedad</th>\n",
       "      <th>indrel</th>\n",
       "      <th>...</th>\n",
       "      <th>ind_hip_fin_ult1</th>\n",
       "      <th>ind_plan_fin_ult1</th>\n",
       "      <th>ind_pres_fin_ult1</th>\n",
       "      <th>ind_reca_fin_ult1</th>\n",
       "      <th>ind_tjcr_fin_ult1</th>\n",
       "      <th>ind_valo_fin_ult1</th>\n",
       "      <th>ind_viv_fin_ult1</th>\n",
       "      <th>ind_nomina_ult1</th>\n",
       "      <th>ind_nom_pens_ult1</th>\n",
       "      <th>ind_recibo_ult1</th>\n",
       "    </tr>\n",
       "  </thead>\n",
       "  <tbody>\n",
       "    <tr>\n",
       "      <th>0</th>\n",
       "      <td>2015-01-28</td>\n",
       "      <td>1058935</td>\n",
       "      <td>N</td>\n",
       "      <td>ES</td>\n",
       "      <td>H</td>\n",
       "      <td>23</td>\n",
       "      <td>2012-09-12</td>\n",
       "      <td>0</td>\n",
       "      <td>34</td>\n",
       "      <td>1</td>\n",
       "      <td>...</td>\n",
       "      <td>0</td>\n",
       "      <td>0</td>\n",
       "      <td>0</td>\n",
       "      <td>0</td>\n",
       "      <td>0</td>\n",
       "      <td>0</td>\n",
       "      <td>0</td>\n",
       "      <td>0.0</td>\n",
       "      <td>0.0</td>\n",
       "      <td>0</td>\n",
       "    </tr>\n",
       "    <tr>\n",
       "      <th>1</th>\n",
       "      <td>2015-01-28</td>\n",
       "      <td>1054162</td>\n",
       "      <td>N</td>\n",
       "      <td>ES</td>\n",
       "      <td>H</td>\n",
       "      <td>44</td>\n",
       "      <td>2012-08-27</td>\n",
       "      <td>0</td>\n",
       "      <td>35</td>\n",
       "      <td>1</td>\n",
       "      <td>...</td>\n",
       "      <td>0</td>\n",
       "      <td>0</td>\n",
       "      <td>0</td>\n",
       "      <td>0</td>\n",
       "      <td>0</td>\n",
       "      <td>0</td>\n",
       "      <td>0</td>\n",
       "      <td>1.0</td>\n",
       "      <td>1.0</td>\n",
       "      <td>0</td>\n",
       "    </tr>\n",
       "    <tr>\n",
       "      <th>2</th>\n",
       "      <td>2015-01-28</td>\n",
       "      <td>1060757</td>\n",
       "      <td>N</td>\n",
       "      <td>ES</td>\n",
       "      <td>H</td>\n",
       "      <td>28</td>\n",
       "      <td>2012-09-14</td>\n",
       "      <td>0</td>\n",
       "      <td>32</td>\n",
       "      <td>1</td>\n",
       "      <td>...</td>\n",
       "      <td>0</td>\n",
       "      <td>0</td>\n",
       "      <td>0</td>\n",
       "      <td>0</td>\n",
       "      <td>0</td>\n",
       "      <td>0</td>\n",
       "      <td>0</td>\n",
       "      <td>0.0</td>\n",
       "      <td>0.0</td>\n",
       "      <td>0</td>\n",
       "    </tr>\n",
       "    <tr>\n",
       "      <th>3</th>\n",
       "      <td>2015-01-28</td>\n",
       "      <td>1029018</td>\n",
       "      <td>N</td>\n",
       "      <td>ES</td>\n",
       "      <td>V</td>\n",
       "      <td>23</td>\n",
       "      <td>2012-07-24</td>\n",
       "      <td>0</td>\n",
       "      <td>36</td>\n",
       "      <td>1</td>\n",
       "      <td>...</td>\n",
       "      <td>0</td>\n",
       "      <td>0</td>\n",
       "      <td>0</td>\n",
       "      <td>0</td>\n",
       "      <td>0</td>\n",
       "      <td>0</td>\n",
       "      <td>0</td>\n",
       "      <td>0.0</td>\n",
       "      <td>0.0</td>\n",
       "      <td>0</td>\n",
       "    </tr>\n",
       "    <tr>\n",
       "      <th>4</th>\n",
       "      <td>2015-01-28</td>\n",
       "      <td>1043474</td>\n",
       "      <td>N</td>\n",
       "      <td>ES</td>\n",
       "      <td>H</td>\n",
       "      <td>26</td>\n",
       "      <td>2012-08-06</td>\n",
       "      <td>0</td>\n",
       "      <td>35</td>\n",
       "      <td>1</td>\n",
       "      <td>...</td>\n",
       "      <td>0</td>\n",
       "      <td>0</td>\n",
       "      <td>0</td>\n",
       "      <td>0</td>\n",
       "      <td>0</td>\n",
       "      <td>0</td>\n",
       "      <td>0</td>\n",
       "      <td>0.0</td>\n",
       "      <td>0.0</td>\n",
       "      <td>0</td>\n",
       "    </tr>\n",
       "  </tbody>\n",
       "</table>\n",
       "<p>5 rows × 111 columns</p>\n",
       "</div>"
      ],
      "text/plain": [
       "   fecha_dato  ncodpers ind_empleado pais_residencia sexo  age  fecha_alta  \\\n",
       "0  2015-01-28   1058935            N              ES    H   23  2012-09-12   \n",
       "1  2015-01-28   1054162            N              ES    H   44  2012-08-27   \n",
       "2  2015-01-28   1060757            N              ES    H   28  2012-09-14   \n",
       "3  2015-01-28   1029018            N              ES    V   23  2012-07-24   \n",
       "4  2015-01-28   1043474            N              ES    H   26  2012-08-06   \n",
       "\n",
       "   es_nuevo_cliente  antiguedad  indrel       ...        ind_hip_fin_ult1  \\\n",
       "0                 0          34       1       ...                       0   \n",
       "1                 0          35       1       ...                       0   \n",
       "2                 0          32       1       ...                       0   \n",
       "3                 0          36       1       ...                       0   \n",
       "4                 0          35       1       ...                       0   \n",
       "\n",
       "   ind_plan_fin_ult1 ind_pres_fin_ult1 ind_reca_fin_ult1 ind_tjcr_fin_ult1  \\\n",
       "0                  0                 0                 0                 0   \n",
       "1                  0                 0                 0                 0   \n",
       "2                  0                 0                 0                 0   \n",
       "3                  0                 0                 0                 0   \n",
       "4                  0                 0                 0                 0   \n",
       "\n",
       "   ind_valo_fin_ult1 ind_viv_fin_ult1 ind_nomina_ult1  ind_nom_pens_ult1  \\\n",
       "0                  0                0             0.0                0.0   \n",
       "1                  0                0             1.0                1.0   \n",
       "2                  0                0             0.0                0.0   \n",
       "3                  0                0             0.0                0.0   \n",
       "4                  0                0             0.0                0.0   \n",
       "\n",
       "   ind_recibo_ult1  \n",
       "0                0  \n",
       "1                0  \n",
       "2                0  \n",
       "3                0  \n",
       "4                0  \n",
       "\n",
       "[5 rows x 111 columns]"
      ]
     },
     "execution_count": 2,
     "metadata": {},
     "output_type": "execute_result"
    }
   ],
   "source": [
    "#Vamos identificar las columnas a usar\n",
    "dataset.head()"
   ]
  },
  {
   "cell_type": "code",
   "execution_count": 3,
   "metadata": {},
   "outputs": [
    {
     "data": {
      "text/plain": [
       "Index(['ncodpers', 'ind_empleado', 'pais_residencia', 'sexo', 'age',\n",
       "       'fecha_alta', 'es_nuevo_cliente', 'antiguedad', 'indrel',\n",
       "       'ult_fec_cli_1t', 'indrel_1mes', 'tiprel_1mes', 'indresi', 'indext',\n",
       "       'conyuemp', 'canal_entrada', 'indfall', 'tipodom', 'cod_prov',\n",
       "       'nomprov', 'ind_actividad_cliente', 'renta', 'segmento', 'es_hombre',\n",
       "       'es_cliente_activo', 'es_cliente_extranjero', 'canal_KHE', 'canal_KFC',\n",
       "       'canal_KHD'],\n",
       "      dtype='object')"
      ]
     },
     "execution_count": 3,
     "metadata": {},
     "output_type": "execute_result"
    }
   ],
   "source": [
    "dataset.columns[1:30]"
   ]
  },
  {
   "cell_type": "markdown",
   "metadata": {},
   "source": [
    "Vamos a usar las siguientes variables: ID_PRODUCTO, COD_CLIENTE, y CANTIDAD"
   ]
  },
  {
   "cell_type": "code",
   "execution_count": 4,
   "metadata": {
    "collapsed": true
   },
   "outputs": [],
   "source": [
    "\n",
    "input_train=dataset[['age', 'antiguedad','ind_actividad_cliente','es_hombre', 'es_cliente_activo','es_cliente_extranjero',\n",
    "               'provincia_MADRID','provincia_BARCELONA','provincia_PONTEVEDRA','provincia_SEVILLA','provincia_VALENCIA',\n",
    "               'provincia_MALAGA','provincia_MURCIA','provincia_ZARAGOZA','provincia_CADIZ','provincia_BADAJOZ',\n",
    "               'provincia_ALICANTE','provincia_CASTELLON','provincia_HUELVA','provincia_SALAMANCA','provincia_CORDOBA',\n",
    "               'provincia_TOLEDO','provincia_CACERES','provincia_VALLADOLID','provincia_LERIDA','provincia_CANTABRIA',\n",
    "               'provincia_OURENSE','provincia_LUGO','provincia_GIRONA','provincia_ALBACETE','provincia_CIUDAD_REAL','provincia_ASTURIAS',\n",
    "               'provincia_BURGOS','provincia_GRANADA','provincia_TARRAGONA','provincia_CUENCA','provincia_ZAMORA','provincia_NAVARRA',\n",
    "               'provincia_LEON','provincia_HUESCA','provincia_BIZKAIA','provincia_PALENCIA','provincia_JAEN','provincia_AVILA',\n",
    "               'provincia_SEGOVIA','provincia_ALMERIA','provincia_SANTA_CRUZ_DE_TENERIFE','provincia_GUADALAJARA','provincia_TERUEL',\n",
    "               'provincia_GIPUZKOA','provincia_SORIA','provincia_ALAVA','provincia_MELILLA','provincia_CEUTA','es_universitario',\n",
    "               'es_particular','es_top','renta']]\n",
    "output_train=dataset[['ind_ahor_fin_ult1', 'ind_aval_fin_ult1', 'ind_cco_fin_ult1',\n",
    "       'ind_cder_fin_ult1', 'ind_cno_fin_ult1', 'ind_ctju_fin_ult1',\n",
    "       'ind_ctma_fin_ult1', 'ind_ctop_fin_ult1', 'ind_ctpp_fin_ult1',\n",
    "       'ind_deco_fin_ult1', 'ind_deme_fin_ult1', 'ind_dela_fin_ult1',\n",
    "       'ind_ecue_fin_ult1', 'ind_fond_fin_ult1', 'ind_hip_fin_ult1',\n",
    "       'ind_plan_fin_ult1', 'ind_pres_fin_ult1', 'ind_reca_fin_ult1',\n",
    "       'ind_tjcr_fin_ult1', 'ind_valo_fin_ult1', 'ind_viv_fin_ult1',\n",
    "       'ind_nomina_ult1', 'ind_nom_pens_ult1', 'ind_recibo_ult1' ]]"
   ]
  },
  {
   "cell_type": "code",
   "execution_count": 5,
   "metadata": {},
   "outputs": [
    {
     "data": {
      "text/plain": [
       "(16482, 58)"
      ]
     },
     "execution_count": 5,
     "metadata": {},
     "output_type": "execute_result"
    }
   ],
   "source": [
    "input_train.shape"
   ]
  },
  {
   "cell_type": "code",
   "execution_count": 6,
   "metadata": {
    "collapsed": true
   },
   "outputs": [],
   "source": [
    "nodos_hidden=250 # Cantidad de nodos de la capa oculta\n",
    "x=tf.placeholder(tf.float32, [None, 58],name='Inputs') # Es la matriz de inputs. Actualmetne solo hay seis\n",
    "y_=tf.placeholder(tf.float32, [None, 24], name='Outputs')  # 24 productos financieros a recomendar\n",
    "# Matriz de pesos a encontrar. Esta es una variable y por eso no puede ser del tipo\n",
    "## tf.placeholder, sino que tiene que ser tipo variable para que se entienda que esta es la variable a optimizar\n",
    "W0=tf.Variable(tf.random_normal([58,nodos_hidden], stddev=0.01), name='Capa_Oculta1') \n",
    "B0= tf.Variable(tf.random_normal([1,nodos_hidden],stddev=0.01), name='sesgo_Capa_Oculta1') # Está es la constante o sesgo del perceptron\n",
    "\n",
    "W1=tf.Variable(tf.random_normal([nodos_hidden,24],stddev=0.01),name='Capa_Oculta2') ## Esta es la matriz de pesos de la segunda capa\n",
    "B1= tf.Variable(tf.random_normal([1,24],stddev=0.01), name='Sesgo_capa_oculta2') # Está es la constante o sesgo del perceptron"
   ]
  },
  {
   "cell_type": "code",
   "execution_count": 7,
   "metadata": {
    "collapsed": true
   },
   "outputs": [],
   "source": [
    "# Vamos ahora a conectarla\n",
    "\n",
    "capa_oculta=tf.nn.relu(tf.matmul(x,W0)+B0)\n",
    "y=tf.matmul(capa_oculta,W1)+B1"
   ]
  },
  {
   "cell_type": "code",
   "execution_count": 8,
   "metadata": {
    "collapsed": true
   },
   "outputs": [],
   "source": [
    "# Calculamos la función de costo \n",
    "cross_entropy= tf.nn.sigmoid_cross_entropy_with_logits(labels=y_,logits=y)"
   ]
  },
  {
   "cell_type": "code",
   "execution_count": 9,
   "metadata": {
    "collapsed": true
   },
   "outputs": [],
   "source": [
    "# Ahora Vamos a crear la funcion a optimizar\n",
    "optimizador= tf.train.AdamOptimizer(0.005).minimize(cross_entropy)"
   ]
  },
  {
   "cell_type": "code",
   "execution_count": 10,
   "metadata": {
    "collapsed": true
   },
   "outputs": [],
   "source": [
    "init=tf.global_variables_initializer() \n",
    "session= tf.Session()\n",
    "session.run(init)\n",
    "writer = tf.summary.FileWriter('./hackaton_tensorboard', session.graph)\n"
   ]
  },
  {
   "cell_type": "code",
   "execution_count": 11,
   "metadata": {},
   "outputs": [
    {
     "data": {
      "text/plain": [
       "(16482, 58)"
      ]
     },
     "execution_count": 11,
     "metadata": {},
     "output_type": "execute_result"
    }
   ],
   "source": [
    "input_train.shape\n"
   ]
  },
  {
   "cell_type": "code",
   "execution_count": 13,
   "metadata": {},
   "outputs": [
    {
     "name": "stdout",
     "output_type": "stream",
     "text": [
      "Terminó el entrenamiento con Gradiente descendente Estocástico\n"
     ]
    }
   ],
   "source": [
    "train_error=[]\n",
    "test_error=[]\n",
    "\n",
    "for i in range(150):\n",
    "    trainX,testX, trainY,testY= train_test_split(input_train, output_train, random_state=42)\n",
    "    session.run(optimizador,feed_dict={x:trainX, y_:trainY}) #feed_dict es un diccionario con los datos de entrenamiento\n",
    "    loss_train=session.run(cross_entropy,feed_dict={x:trainX, y_:trainY})\n",
    "    loss_test=session.run(cross_entropy,feed_dict={x:testX, y_:testY})\n",
    "    train_error.append(loss_train) # calcula el error sobre datos de training\n",
    "    test_error.append(loss_test) #calcula error en los datos de testing\n",
    "    \n",
    "print('Terminó el entrenamiento con Gradiente descendente Estocástico')"
   ]
  },
  {
   "cell_type": "code",
   "execution_count": 41,
   "metadata": {},
   "outputs": [
    {
     "data": {
      "text/plain": [
       "(4121, 73)"
      ]
     },
     "execution_count": 41,
     "metadata": {},
     "output_type": "execute_result"
    }
   ],
   "source": [
    "trainX,trainY, TestX,TestY= train_test_split(input_train, output_train, random_state=42)\n",
    "\n",
    "trainY.shape"
   ]
  },
  {
   "cell_type": "code",
   "execution_count": null,
   "metadata": {
    "collapsed": true
   },
   "outputs": [],
   "source": []
  },
  {
   "cell_type": "code",
   "execution_count": null,
   "metadata": {
    "collapsed": true
   },
   "outputs": [],
   "source": []
  },
  {
   "cell_type": "code",
   "execution_count": null,
   "metadata": {
    "collapsed": true
   },
   "outputs": [],
   "source": []
  }
 ],
 "metadata": {
  "kernelspec": {
   "display_name": "Python 3",
   "language": "python",
   "name": "python3"
  },
  "language_info": {
   "codemirror_mode": {
    "name": "ipython",
    "version": 3
   },
   "file_extension": ".py",
   "mimetype": "text/x-python",
   "name": "python",
   "nbconvert_exporter": "python",
   "pygments_lexer": "ipython3",
   "version": "3.6.1"
  }
 },
 "nbformat": 4,
 "nbformat_minor": 2
}
